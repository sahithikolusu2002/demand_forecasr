{
 "cells": [
  {
   "cell_type": "code",
   "execution_count": 1,
   "metadata": {},
   "outputs": [
    {
     "name": "stdout",
     "output_type": "stream",
     "text": [
      "Requirement already satisfied: gradio in c:\\users\\kumar\\onedrive\\anaconda3\\lib\\site-packages (3.23.0)Note: you may need to restart the kernel to use updated packages.\n",
      "\n",
      "Requirement already satisfied: semantic-version in c:\\users\\kumar\\onedrive\\anaconda3\\lib\\site-packages (from gradio) (2.10.0)\n",
      "Requirement already satisfied: fsspec in c:\\users\\kumar\\onedrive\\anaconda3\\lib\\site-packages (from gradio) (2022.7.1)\n",
      "Requirement already satisfied: huggingface-hub in c:\\users\\kumar\\onedrive\\anaconda3\\lib\\site-packages (from gradio) (0.13.3)\n",
      "Requirement already satisfied: markupsafe in c:\\users\\kumar\\onedrive\\anaconda3\\lib\\site-packages (from gradio) (2.0.1)\n",
      "Requirement already satisfied: numpy in c:\\users\\kumar\\onedrive\\anaconda3\\lib\\site-packages (from gradio) (1.21.5)\n",
      "Requirement already satisfied: pillow in c:\\users\\kumar\\onedrive\\anaconda3\\lib\\site-packages (from gradio) (9.2.0)\n",
      "Requirement already satisfied: httpx in c:\\users\\kumar\\onedrive\\anaconda3\\lib\\site-packages (from gradio) (0.23.3)\n",
      "Requirement already satisfied: pandas in c:\\users\\kumar\\onedrive\\anaconda3\\lib\\site-packages (from gradio) (1.4.4)\n",
      "Requirement already satisfied: uvicorn in c:\\users\\kumar\\onedrive\\anaconda3\\lib\\site-packages (from gradio) (0.21.1)\n",
      "Requirement already satisfied: markdown-it-py[linkify]>=2.0.0 in c:\\users\\kumar\\onedrive\\anaconda3\\lib\\site-packages (from gradio) (2.2.0)\n",
      "Requirement already satisfied: aiofiles in c:\\users\\kumar\\onedrive\\anaconda3\\lib\\site-packages (from gradio) (23.1.0)\n",
      "Requirement already satisfied: ffmpy in c:\\users\\kumar\\onedrive\\anaconda3\\lib\\site-packages (from gradio) (0.3.0)\n",
      "Requirement already satisfied: matplotlib in c:\\users\\kumar\\onedrive\\anaconda3\\lib\\site-packages (from gradio) (3.5.2)\n",
      "Requirement already satisfied: pyyaml in c:\\users\\kumar\\onedrive\\anaconda3\\lib\\site-packages (from gradio) (6.0)\n",
      "Requirement already satisfied: jinja2 in c:\\users\\kumar\\onedrive\\anaconda3\\lib\\site-packages (from gradio) (2.11.3)\n",
      "Requirement already satisfied: altair>=4.2.0 in c:\\users\\kumar\\onedrive\\anaconda3\\lib\\site-packages (from gradio) (4.2.2)\n",
      "Requirement already satisfied: pydantic in c:\\users\\kumar\\onedrive\\anaconda3\\lib\\site-packages (from gradio) (1.10.7)\n",
      "Requirement already satisfied: python-multipart in c:\\users\\kumar\\onedrive\\anaconda3\\lib\\site-packages (from gradio) (0.0.6)\n",
      "Requirement already satisfied: aiohttp in c:\\users\\kumar\\onedrive\\anaconda3\\lib\\site-packages (from gradio) (3.8.4)\n",
      "Requirement already satisfied: pydub in c:\\users\\kumar\\onedrive\\anaconda3\\lib\\site-packages (from gradio) (0.25.1)\n",
      "Requirement already satisfied: requests in c:\\users\\kumar\\onedrive\\anaconda3\\lib\\site-packages (from gradio) (2.28.1)\n",
      "Requirement already satisfied: mdit-py-plugins<=0.3.3 in c:\\users\\kumar\\onedrive\\anaconda3\\lib\\site-packages (from gradio) (0.3.3)\n",
      "Requirement already satisfied: typing-extensions in c:\\users\\kumar\\onedrive\\anaconda3\\lib\\site-packages (from gradio) (4.3.0)\n",
      "Requirement already satisfied: websockets>=10.0 in c:\\users\\kumar\\onedrive\\anaconda3\\lib\\site-packages (from gradio) (10.4)\n",
      "Requirement already satisfied: fastapi in c:\\users\\kumar\\onedrive\\anaconda3\\lib\\site-packages (from gradio) (0.95.0)\n",
      "Requirement already satisfied: orjson in c:\\users\\kumar\\onedrive\\anaconda3\\lib\\site-packages (from gradio) (3.8.9)\n",
      "Requirement already satisfied: jsonschema>=3.0 in c:\\users\\kumar\\onedrive\\anaconda3\\lib\\site-packages (from altair>=4.2.0->gradio) (4.16.0)\n",
      "Requirement already satisfied: entrypoints in c:\\users\\kumar\\onedrive\\anaconda3\\lib\\site-packages (from altair>=4.2.0->gradio) (0.4)\n",
      "Requirement already satisfied: toolz in c:\\users\\kumar\\onedrive\\anaconda3\\lib\\site-packages (from altair>=4.2.0->gradio) (0.11.2)\n",
      "Requirement already satisfied: tqdm>=4.42.1 in c:\\users\\kumar\\onedrive\\anaconda3\\lib\\site-packages (from huggingface-hub->gradio) (4.64.1)\n",
      "Requirement already satisfied: filelock in c:\\users\\kumar\\onedrive\\anaconda3\\lib\\site-packages (from huggingface-hub->gradio) (3.6.0)\n",
      "Requirement already satisfied: packaging>=20.9 in c:\\users\\kumar\\onedrive\\anaconda3\\lib\\site-packages (from huggingface-hub->gradio) (21.3)\n",
      "Requirement already satisfied: mdurl~=0.1 in c:\\users\\kumar\\onedrive\\anaconda3\\lib\\site-packages (from markdown-it-py[linkify]>=2.0.0->gradio) (0.1.2)\n",
      "Requirement already satisfied: linkify-it-py<3,>=1 in c:\\users\\kumar\\onedrive\\anaconda3\\lib\\site-packages (from markdown-it-py[linkify]>=2.0.0->gradio) (2.0.0)\n",
      "Requirement already satisfied: python-dateutil>=2.8.1 in c:\\users\\kumar\\onedrive\\anaconda3\\lib\\site-packages (from pandas->gradio) (2.8.2)\n",
      "Requirement already satisfied: pytz>=2020.1 in c:\\users\\kumar\\onedrive\\anaconda3\\lib\\site-packages (from pandas->gradio) (2022.1)\n",
      "Requirement already satisfied: multidict<7.0,>=4.5 in c:\\users\\kumar\\onedrive\\anaconda3\\lib\\site-packages (from aiohttp->gradio) (6.0.4)\n",
      "Requirement already satisfied: yarl<2.0,>=1.0 in c:\\users\\kumar\\onedrive\\anaconda3\\lib\\site-packages (from aiohttp->gradio) (1.8.2)\n",
      "Requirement already satisfied: attrs>=17.3.0 in c:\\users\\kumar\\onedrive\\anaconda3\\lib\\site-packages (from aiohttp->gradio) (21.4.0)\n",
      "Requirement already satisfied: async-timeout<5.0,>=4.0.0a3 in c:\\users\\kumar\\onedrive\\anaconda3\\lib\\site-packages (from aiohttp->gradio) (4.0.2)\n",
      "Requirement already satisfied: frozenlist>=1.1.1 in c:\\users\\kumar\\onedrive\\anaconda3\\lib\\site-packages (from aiohttp->gradio) (1.3.3)\n",
      "Requirement already satisfied: aiosignal>=1.1.2 in c:\\users\\kumar\\onedrive\\anaconda3\\lib\\site-packages (from aiohttp->gradio) (1.3.1)\n",
      "Requirement already satisfied: charset-normalizer<4.0,>=2.0 in c:\\users\\kumar\\onedrive\\anaconda3\\lib\\site-packages (from aiohttp->gradio) (2.0.4)\n",
      "Requirement already satisfied: starlette<0.27.0,>=0.26.1 in c:\\users\\kumar\\onedrive\\anaconda3\\lib\\site-packages (from fastapi->gradio) (0.26.1)\n",
      "Requirement already satisfied: certifi in c:\\users\\kumar\\onedrive\\anaconda3\\lib\\site-packages (from httpx->gradio) (2022.9.14)\n",
      "Requirement already satisfied: sniffio in c:\\users\\kumar\\onedrive\\anaconda3\\lib\\site-packages (from httpx->gradio) (1.2.0)\n",
      "Requirement already satisfied: rfc3986[idna2008]<2,>=1.3 in c:\\users\\kumar\\onedrive\\anaconda3\\lib\\site-packages (from httpx->gradio) (1.5.0)\n",
      "Requirement already satisfied: httpcore<0.17.0,>=0.15.0 in c:\\users\\kumar\\onedrive\\anaconda3\\lib\\site-packages (from httpx->gradio) (0.16.3)\n",
      "Requirement already satisfied: pyparsing>=2.2.1 in c:\\users\\kumar\\onedrive\\anaconda3\\lib\\site-packages (from matplotlib->gradio) (3.0.9)\n",
      "Requirement already satisfied: cycler>=0.10 in c:\\users\\kumar\\onedrive\\anaconda3\\lib\\site-packages (from matplotlib->gradio) (0.11.0)\n",
      "Requirement already satisfied: fonttools>=4.22.0 in c:\\users\\kumar\\onedrive\\anaconda3\\lib\\site-packages (from matplotlib->gradio) (4.25.0)\n",
      "Requirement already satisfied: kiwisolver>=1.0.1 in c:\\users\\kumar\\onedrive\\anaconda3\\lib\\site-packages (from matplotlib->gradio) (1.4.2)\n",
      "Requirement already satisfied: urllib3<1.27,>=1.21.1 in c:\\users\\kumar\\onedrive\\anaconda3\\lib\\site-packages (from requests->gradio) (1.26.11)\n",
      "Requirement already satisfied: idna<4,>=2.5 in c:\\users\\kumar\\onedrive\\anaconda3\\lib\\site-packages (from requests->gradio) (3.3)\n",
      "Requirement already satisfied: h11>=0.8 in c:\\users\\kumar\\onedrive\\anaconda3\\lib\\site-packages (from uvicorn->gradio) (0.14.0)\n",
      "Requirement already satisfied: click>=7.0 in c:\\users\\kumar\\onedrive\\anaconda3\\lib\\site-packages (from uvicorn->gradio) (8.0.4)\n",
      "Requirement already satisfied: colorama in c:\\users\\kumar\\onedrive\\anaconda3\\lib\\site-packages (from click>=7.0->uvicorn->gradio) (0.4.5)\n",
      "Requirement already satisfied: anyio<5.0,>=3.0 in c:\\users\\kumar\\onedrive\\anaconda3\\lib\\site-packages (from httpcore<0.17.0,>=0.15.0->httpx->gradio) (3.5.0)\n",
      "Requirement already satisfied: pyrsistent!=0.17.0,!=0.17.1,!=0.17.2,>=0.14.0 in c:\\users\\kumar\\onedrive\\anaconda3\\lib\\site-packages (from jsonschema>=3.0->altair>=4.2.0->gradio) (0.18.0)\n",
      "Requirement already satisfied: uc-micro-py in c:\\users\\kumar\\onedrive\\anaconda3\\lib\\site-packages (from linkify-it-py<3,>=1->markdown-it-py[linkify]>=2.0.0->gradio) (1.0.1)\n",
      "Requirement already satisfied: six>=1.5 in c:\\users\\kumar\\onedrive\\anaconda3\\lib\\site-packages (from python-dateutil>=2.8.1->pandas->gradio) (1.16.0)\n"
     ]
    }
   ],
   "source": [
    "pip install gradio"
   ]
  },
  {
   "cell_type": "code",
   "execution_count": 2,
   "metadata": {},
   "outputs": [],
   "source": [
    "import gradio as gr\n",
    "import numpy  as np\n",
    "import pandas as pd\n",
    "import xgboost as xgb\n",
    "from sklearn.model_selection import train_test_split\n",
    "import sklearn.metrics as metrics\n",
    "from sklearn.linear_model import LinearRegression\n",
    "from joblib import dump"
   ]
  },
  {
   "cell_type": "code",
   "execution_count": 3,
   "metadata": {},
   "outputs": [],
   "source": [
    "train=pd.read_csv(\"train_data.csv\")\n",
    "test=pd.read_csv(\"test.csv\")\n",
    "final=pd.read_csv(\"test.csv\")"
   ]
  },
  {
   "cell_type": "code",
   "execution_count": 4,
   "metadata": {},
   "outputs": [],
   "source": [
    "df=pd.concat([train,test])"
   ]
  },
  {
   "cell_type": "code",
   "execution_count": 5,
   "metadata": {},
   "outputs": [
    {
     "data": {
      "text/plain": [
       "0       2013-01-01\n",
       "1       2013-01-02\n",
       "2       2013-01-03\n",
       "3       2013-01-04\n",
       "4       2013-01-05\n",
       "           ...    \n",
       "44995   2018-03-27\n",
       "44996   2018-03-28\n",
       "44997   2018-03-29\n",
       "44998   2018-03-30\n",
       "44999   2018-03-31\n",
       "Name: date, Length: 958000, dtype: datetime64[ns]"
      ]
     },
     "execution_count": 5,
     "metadata": {},
     "output_type": "execute_result"
    }
   ],
   "source": [
    "df['date']=pd.to_datetime(df['date'],format = \"%d-%m-%Y\")\n",
    "df['date']"
   ]
  },
  {
   "cell_type": "code",
   "execution_count": 6,
   "metadata": {},
   "outputs": [],
   "source": [
    "def cols_new(data_df):\n",
    "    data_df['year'] = data_df['date'].dt.year\n",
    "    data_df['quarter'] = data_df['date'].dt.quarter\n",
    "    data_df['month'] = data_df['date'].dt.month\n",
    "    data_df['weekofyear'] = data_df['date'].dt.weekofyear\n",
    "    data_df['dayofweek'] = data_df['date'].dt.dayofweek\n",
    "    return data_df"
   ]
  },
  {
   "cell_type": "code",
   "execution_count": 7,
   "metadata": {},
   "outputs": [
    {
     "name": "stderr",
     "output_type": "stream",
     "text": [
      "C:\\Users\\kumar\\AppData\\Local\\Temp\\ipykernel_14808\\1417406636.py:5: FutureWarning: Series.dt.weekofyear and Series.dt.week have been deprecated. Please use Series.dt.isocalendar().week instead.\n",
      "  data_df['weekofyear'] = data_df['date'].dt.weekofyear\n"
     ]
    },
    {
     "data": {
      "text/html": [
       "<div>\n",
       "<style scoped>\n",
       "    .dataframe tbody tr th:only-of-type {\n",
       "        vertical-align: middle;\n",
       "    }\n",
       "\n",
       "    .dataframe tbody tr th {\n",
       "        vertical-align: top;\n",
       "    }\n",
       "\n",
       "    .dataframe thead th {\n",
       "        text-align: right;\n",
       "    }\n",
       "</style>\n",
       "<table border=\"1\" class=\"dataframe\">\n",
       "  <thead>\n",
       "    <tr style=\"text-align: right;\">\n",
       "      <th></th>\n",
       "      <th>date</th>\n",
       "      <th>store</th>\n",
       "      <th>item</th>\n",
       "      <th>sales</th>\n",
       "      <th>id</th>\n",
       "      <th>year</th>\n",
       "      <th>quarter</th>\n",
       "      <th>month</th>\n",
       "      <th>weekofyear</th>\n",
       "      <th>dayofweek</th>\n",
       "    </tr>\n",
       "  </thead>\n",
       "  <tbody>\n",
       "    <tr>\n",
       "      <th>0</th>\n",
       "      <td>2013-01-01</td>\n",
       "      <td>1</td>\n",
       "      <td>1</td>\n",
       "      <td>13.0</td>\n",
       "      <td>NaN</td>\n",
       "      <td>2013</td>\n",
       "      <td>1</td>\n",
       "      <td>1</td>\n",
       "      <td>1</td>\n",
       "      <td>1</td>\n",
       "    </tr>\n",
       "    <tr>\n",
       "      <th>1</th>\n",
       "      <td>2013-01-02</td>\n",
       "      <td>1</td>\n",
       "      <td>1</td>\n",
       "      <td>11.0</td>\n",
       "      <td>NaN</td>\n",
       "      <td>2013</td>\n",
       "      <td>1</td>\n",
       "      <td>1</td>\n",
       "      <td>1</td>\n",
       "      <td>2</td>\n",
       "    </tr>\n",
       "    <tr>\n",
       "      <th>2</th>\n",
       "      <td>2013-01-03</td>\n",
       "      <td>1</td>\n",
       "      <td>1</td>\n",
       "      <td>14.0</td>\n",
       "      <td>NaN</td>\n",
       "      <td>2013</td>\n",
       "      <td>1</td>\n",
       "      <td>1</td>\n",
       "      <td>1</td>\n",
       "      <td>3</td>\n",
       "    </tr>\n",
       "    <tr>\n",
       "      <th>3</th>\n",
       "      <td>2013-01-04</td>\n",
       "      <td>1</td>\n",
       "      <td>1</td>\n",
       "      <td>13.0</td>\n",
       "      <td>NaN</td>\n",
       "      <td>2013</td>\n",
       "      <td>1</td>\n",
       "      <td>1</td>\n",
       "      <td>1</td>\n",
       "      <td>4</td>\n",
       "    </tr>\n",
       "    <tr>\n",
       "      <th>4</th>\n",
       "      <td>2013-01-05</td>\n",
       "      <td>1</td>\n",
       "      <td>1</td>\n",
       "      <td>10.0</td>\n",
       "      <td>NaN</td>\n",
       "      <td>2013</td>\n",
       "      <td>1</td>\n",
       "      <td>1</td>\n",
       "      <td>1</td>\n",
       "      <td>5</td>\n",
       "    </tr>\n",
       "    <tr>\n",
       "      <th>...</th>\n",
       "      <td>...</td>\n",
       "      <td>...</td>\n",
       "      <td>...</td>\n",
       "      <td>...</td>\n",
       "      <td>...</td>\n",
       "      <td>...</td>\n",
       "      <td>...</td>\n",
       "      <td>...</td>\n",
       "      <td>...</td>\n",
       "      <td>...</td>\n",
       "    </tr>\n",
       "    <tr>\n",
       "      <th>44995</th>\n",
       "      <td>2018-03-27</td>\n",
       "      <td>10</td>\n",
       "      <td>50</td>\n",
       "      <td>NaN</td>\n",
       "      <td>44995.0</td>\n",
       "      <td>2018</td>\n",
       "      <td>1</td>\n",
       "      <td>3</td>\n",
       "      <td>13</td>\n",
       "      <td>1</td>\n",
       "    </tr>\n",
       "    <tr>\n",
       "      <th>44996</th>\n",
       "      <td>2018-03-28</td>\n",
       "      <td>10</td>\n",
       "      <td>50</td>\n",
       "      <td>NaN</td>\n",
       "      <td>44996.0</td>\n",
       "      <td>2018</td>\n",
       "      <td>1</td>\n",
       "      <td>3</td>\n",
       "      <td>13</td>\n",
       "      <td>2</td>\n",
       "    </tr>\n",
       "    <tr>\n",
       "      <th>44997</th>\n",
       "      <td>2018-03-29</td>\n",
       "      <td>10</td>\n",
       "      <td>50</td>\n",
       "      <td>NaN</td>\n",
       "      <td>44997.0</td>\n",
       "      <td>2018</td>\n",
       "      <td>1</td>\n",
       "      <td>3</td>\n",
       "      <td>13</td>\n",
       "      <td>3</td>\n",
       "    </tr>\n",
       "    <tr>\n",
       "      <th>44998</th>\n",
       "      <td>2018-03-30</td>\n",
       "      <td>10</td>\n",
       "      <td>50</td>\n",
       "      <td>NaN</td>\n",
       "      <td>44998.0</td>\n",
       "      <td>2018</td>\n",
       "      <td>1</td>\n",
       "      <td>3</td>\n",
       "      <td>13</td>\n",
       "      <td>4</td>\n",
       "    </tr>\n",
       "    <tr>\n",
       "      <th>44999</th>\n",
       "      <td>2018-03-31</td>\n",
       "      <td>10</td>\n",
       "      <td>50</td>\n",
       "      <td>NaN</td>\n",
       "      <td>44999.0</td>\n",
       "      <td>2018</td>\n",
       "      <td>1</td>\n",
       "      <td>3</td>\n",
       "      <td>13</td>\n",
       "      <td>5</td>\n",
       "    </tr>\n",
       "  </tbody>\n",
       "</table>\n",
       "<p>958000 rows × 10 columns</p>\n",
       "</div>"
      ],
      "text/plain": [
       "            date  store  item  sales       id  year  quarter  month  \\\n",
       "0     2013-01-01      1     1   13.0      NaN  2013        1      1   \n",
       "1     2013-01-02      1     1   11.0      NaN  2013        1      1   \n",
       "2     2013-01-03      1     1   14.0      NaN  2013        1      1   \n",
       "3     2013-01-04      1     1   13.0      NaN  2013        1      1   \n",
       "4     2013-01-05      1     1   10.0      NaN  2013        1      1   \n",
       "...          ...    ...   ...    ...      ...   ...      ...    ...   \n",
       "44995 2018-03-27     10    50    NaN  44995.0  2018        1      3   \n",
       "44996 2018-03-28     10    50    NaN  44996.0  2018        1      3   \n",
       "44997 2018-03-29     10    50    NaN  44997.0  2018        1      3   \n",
       "44998 2018-03-30     10    50    NaN  44998.0  2018        1      3   \n",
       "44999 2018-03-31     10    50    NaN  44999.0  2018        1      3   \n",
       "\n",
       "       weekofyear  dayofweek  \n",
       "0               1          1  \n",
       "1               1          2  \n",
       "2               1          3  \n",
       "3               1          4  \n",
       "4               1          5  \n",
       "...           ...        ...  \n",
       "44995          13          1  \n",
       "44996          13          2  \n",
       "44997          13          3  \n",
       "44998          13          4  \n",
       "44999          13          5  \n",
       "\n",
       "[958000 rows x 10 columns]"
      ]
     },
     "execution_count": 7,
     "metadata": {},
     "output_type": "execute_result"
    }
   ],
   "source": [
    "cols_new(df)"
   ]
  },
  {
   "cell_type": "code",
   "execution_count": 8,
   "metadata": {},
   "outputs": [
    {
     "name": "stdout",
     "output_type": "stream",
     "text": [
      "Wall time: 0 ns\n"
     ]
    }
   ],
   "source": [
    "%%time\n",
    "def mean_cols(data,cols):\n",
    "    for i in cols:\n",
    "        cols=[e for e in cols if e not in (i)]\n",
    "        for j in cols :\n",
    "            if i!=j :\n",
    "                data['mean_'+i+'_'+j]=data.groupby([i,j])['sales'].transform('mean')\n",
    "    return data"
   ]
  },
  {
   "cell_type": "code",
   "execution_count": 9,
   "metadata": {},
   "outputs": [
    {
     "data": {
      "text/plain": [
       "Index(['date', 'store', 'item', 'sales', 'id', 'year', 'quarter', 'month',\n",
       "       'weekofyear', 'dayofweek'],\n",
       "      dtype='object')"
      ]
     },
     "execution_count": 9,
     "metadata": {},
     "output_type": "execute_result"
    }
   ],
   "source": [
    "df.columns"
   ]
  },
  {
   "cell_type": "code",
   "execution_count": 10,
   "metadata": {},
   "outputs": [
    {
     "name": "stdout",
     "output_type": "stream",
     "text": [
      "Index(['date', 'store', 'item', 'sales', 'id', 'year', 'quarter', 'month',\n",
      "       'weekofyear', 'dayofweek', 'mean_item_store', 'mean_item_dayofweek',\n",
      "       'mean_item_weekofyear', 'mean_item_month', 'mean_item_quarter',\n",
      "       'mean_store_dayofweek', 'mean_store_weekofyear', 'mean_store_month',\n",
      "       'mean_store_quarter', 'mean_dayofweek_weekofyear',\n",
      "       'mean_dayofweek_month', 'mean_dayofweek_quarter',\n",
      "       'mean_weekofyear_month', 'mean_weekofyear_quarter',\n",
      "       'mean_month_quarter'],\n",
      "      dtype='object')\n",
      "Wall time: 1.62 s\n"
     ]
    }
   ],
   "source": [
    "%%time\n",
    "mean_cols(df,['item','store','dayofweek','weekofyear','month','quarter'])\n",
    "print(df.columns)"
   ]
  },
  {
   "cell_type": "code",
   "execution_count": 11,
   "metadata": {},
   "outputs": [],
   "source": [
    "def median_cols(data,cols):\n",
    "    for i in cols:\n",
    "        cols=[e for e in cols if e not in (i)]\n",
    "        for j in cols :\n",
    "            if i!=j :\n",
    "                data['median_'+i+'_'+j]=data.groupby([i,j])['sales'].transform('median')\n",
    "    return data"
   ]
  },
  {
   "cell_type": "code",
   "execution_count": 12,
   "metadata": {},
   "outputs": [
    {
     "name": "stdout",
     "output_type": "stream",
     "text": [
      "Index(['date', 'store', 'item', 'sales', 'id', 'year', 'quarter', 'month',\n",
      "       'weekofyear', 'dayofweek', 'mean_item_store', 'mean_item_dayofweek',\n",
      "       'mean_item_weekofyear', 'mean_item_month', 'mean_item_quarter',\n",
      "       'mean_store_dayofweek', 'mean_store_weekofyear', 'mean_store_month',\n",
      "       'mean_store_quarter', 'mean_dayofweek_weekofyear',\n",
      "       'mean_dayofweek_month', 'mean_dayofweek_quarter',\n",
      "       'mean_weekofyear_month', 'mean_weekofyear_quarter',\n",
      "       'mean_month_quarter', 'median_item_store', 'median_item_dayofweek',\n",
      "       'median_item_weekofyear', 'median_item_month', 'median_item_quarter',\n",
      "       'median_store_dayofweek', 'median_store_weekofyear',\n",
      "       'median_store_month', 'median_store_quarter',\n",
      "       'median_dayofweek_weekofyear', 'median_dayofweek_month',\n",
      "       'median_dayofweek_quarter', 'median_weekofyear_month',\n",
      "       'median_weekofyear_quarter', 'median_month_quarter'],\n",
      "      dtype='object')\n",
      "Wall time: 1.84 s\n"
     ]
    }
   ],
   "source": [
    "%%time\n",
    "median_cols(df,['item','store','dayofweek','weekofyear','month','quarter'])\n",
    "print(df.columns)"
   ]
  },
  {
   "cell_type": "code",
   "execution_count": 13,
   "metadata": {},
   "outputs": [],
   "source": [
    "train = df.loc[~df.sales.isna()]\n",
    "test = df.loc[df.sales.isna()]"
   ]
  },
  {
   "cell_type": "code",
   "execution_count": 14,
   "metadata": {},
   "outputs": [],
   "source": [
    "X_train = train.drop(['date','sales','id'], axis=1)\n",
    "y_train = train['sales'].values\n",
    "X_test = test.drop(['id','date','sales'], axis=1)"
   ]
  },
  {
   "cell_type": "code",
   "execution_count": 15,
   "metadata": {},
   "outputs": [],
   "source": [
    "x_train, x_validate, y_train, y_validate = train_test_split(X_train, y_train, random_state=100, test_size=0.25)"
   ]
  },
  {
   "cell_type": "code",
   "execution_count": 16,
   "metadata": {},
   "outputs": [
    {
     "name": "stdout",
     "output_type": "stream",
     "text": [
      "[0]\ttrain-mae:46.58235\tvalidate-mae:46.55130\n",
      "[50]\ttrain-mae:5.57603\tvalidate-mae:5.58829\n",
      "[100]\ttrain-mae:5.55684\tvalidate-mae:5.58238\n",
      "[150]\ttrain-mae:5.54535\tvalidate-mae:5.58198\n",
      "[199]\ttrain-mae:5.53488\tvalidate-mae:5.58254\n",
      "Wall time: 4min 22s\n"
     ]
    }
   ],
   "source": [
    "%%time\n",
    "params = {\n",
    "    'colsample_bytree': 0.8,\n",
    "    'eta': 0.1,\n",
    "    'eval_metric': 'mae',\n",
    "    'lambda': 1,\n",
    "    'max_depth': 6,\n",
    "    'objective': 'reg:linear',\n",
    "    'seed': 0,\n",
    "    'silent': 1,\n",
    "    'subsample': 0.8,\n",
    "    'verbosity' : 0,\n",
    "}\n",
    "xgbtrain = xgb.DMatrix(x_train, label=y_train)\n",
    "xgbvalidate = xgb.DMatrix(x_validate, label=y_validate)\n",
    "xgbmodel = xgb.train(list(params.items()), xgbtrain, early_stopping_rounds=50,\n",
    "                     evals=[(xgbtrain, 'train'), (xgbvalidate, 'validate')], \n",
    "                     num_boost_round=200, verbose_eval=50)"
   ]
  },
  {
   "cell_type": "code",
   "execution_count": 17,
   "metadata": {},
   "outputs": [
    {
     "name": "stdout",
     "output_type": "stream",
     "text": [
      "Index(['date', 'store', 'item', 'sales', 'id', 'year', 'quarter', 'month',\n",
      "       'weekofyear', 'dayofweek', 'mean_item_store', 'mean_item_dayofweek',\n",
      "       'mean_item_weekofyear', 'mean_item_month', 'mean_item_quarter',\n",
      "       'mean_store_dayofweek', 'mean_store_weekofyear', 'mean_store_month',\n",
      "       'mean_store_quarter', 'mean_dayofweek_weekofyear',\n",
      "       'mean_dayofweek_month', 'mean_dayofweek_quarter',\n",
      "       'mean_weekofyear_month', 'mean_weekofyear_quarter',\n",
      "       'mean_month_quarter', 'median_item_store', 'median_item_dayofweek',\n",
      "       'median_item_weekofyear', 'median_item_month', 'median_item_quarter',\n",
      "       'median_store_dayofweek', 'median_store_weekofyear',\n",
      "       'median_store_month', 'median_store_quarter',\n",
      "       'median_dayofweek_weekofyear', 'median_dayofweek_month',\n",
      "       'median_dayofweek_quarter', 'median_weekofyear_month',\n",
      "       'median_weekofyear_quarter', 'median_month_quarter'],\n",
      "      dtype='object')\n",
      "Index(['id', 'date', 'store', 'item'], dtype='object')\n"
     ]
    }
   ],
   "source": [
    "print(test.columns)\n",
    "print(final.columns)"
   ]
  },
  {
   "cell_type": "code",
   "execution_count": 18,
   "metadata": {},
   "outputs": [
    {
     "name": "stderr",
     "output_type": "stream",
     "text": [
      "c:\\Users\\kumar\\OneDrive\\anaconda3\\lib\\site-packages\\xgboost\\core.py:122: UserWarning: ntree_limit is deprecated, use `iteration_range` or model slicing instead.\n",
      "  warnings.warn(\n"
     ]
    }
   ],
   "source": [
    "model = xgbmodel\n",
    "predict=model.predict(xgb.DMatrix(X_test),ntree_limit=model.best_ntree_limit)\n",
    "dump(xgbmodel, 'xgbmodel_model.joblib')\n",
    "final['sales'] = np.round(predict)"
   ]
  },
  {
   "cell_type": "code",
   "execution_count": 20,
   "metadata": {},
   "outputs": [],
   "source": [
    "def predict_sales(date,store,item):\n",
    "    # sample= np.array([id,sales]).reshape(1,-1)\n",
    "    ans = final.groupby(['item','store','date'])['sales'].mean()\n",
    "    return (ans.loc[(item, store, date)])"
   ]
  },
  {
   "cell_type": "code",
   "execution_count": 21,
   "metadata": {},
   "outputs": [
    {
     "name": "stderr",
     "output_type": "stream",
     "text": [
      "c:\\Users\\kumar\\OneDrive\\anaconda3\\lib\\site-packages\\gradio\\inputs.py:27: UserWarning: Usage of gradio.inputs is deprecated, and will not be supported in the future, please import your component from gradio.components\n",
      "  warnings.warn(\n",
      "c:\\Users\\kumar\\OneDrive\\anaconda3\\lib\\site-packages\\gradio\\deprecation.py:40: UserWarning: `optional` parameter is deprecated, and it has no effect\n",
      "  warnings.warn(value)\n",
      "c:\\Users\\kumar\\OneDrive\\anaconda3\\lib\\site-packages\\gradio\\deprecation.py:40: UserWarning: `numeric` parameter is deprecated, and it has no effect\n",
      "  warnings.warn(value)\n",
      "c:\\Users\\kumar\\OneDrive\\anaconda3\\lib\\site-packages\\gradio\\inputs.py:59: UserWarning: Usage of gradio.inputs is deprecated, and will not be supported in the future, please import your component from gradio.components\n",
      "  warnings.warn(\n"
     ]
    }
   ],
   "source": [
    "input_components = [\n",
    "    gr.inputs.Textbox(label=\"Date(DD-MM-YYYY)\"),\n",
    "    gr.inputs.Number(label=\"Store\"),\n",
    "    gr.inputs.Number(label=\"Item\")\n",
    "]"
   ]
  },
  {
   "cell_type": "code",
   "execution_count": 22,
   "metadata": {},
   "outputs": [
    {
     "name": "stderr",
     "output_type": "stream",
     "text": [
      "c:\\Users\\kumar\\OneDrive\\anaconda3\\lib\\site-packages\\gradio\\outputs.py:22: UserWarning: Usage of gradio.outputs is deprecated, and will not be supported in the future, please import your components from gradio.components\n",
      "  warnings.warn(\n",
      "c:\\Users\\kumar\\OneDrive\\anaconda3\\lib\\site-packages\\gradio\\blocks.py:503: UserWarning: Cannot load compact. Caught Exception: The space compact does not exist\n",
      "  warnings.warn(f\"Cannot load {theme}. Caught Exception: {str(e)}\")\n",
      "c:\\Users\\kumar\\OneDrive\\anaconda3\\lib\\site-packages\\gradio\\deprecation.py:40: UserWarning: `layout` parameter is deprecated, and it has no effect\n",
      "  warnings.warn(value)\n"
     ]
    }
   ],
   "source": [
    "interface = gr.Interface(\n",
    "    fn=predict_sales,\n",
    "    inputs=input_components,\n",
    "    outputs=gr.outputs.Textbox(label=\"Sales prediction\"),\n",
    "    title=\"Predicting sales\",\n",
    "    description=\"Predicting 3 months of sales given 5 year data\",\n",
    "    layout=\"vertical\",\n",
    "    theme=\"compact\"\n",
    ")"
   ]
  },
  {
   "cell_type": "code",
   "execution_count": 23,
   "metadata": {},
   "outputs": [
    {
     "name": "stdout",
     "output_type": "stream",
     "text": [
      "Running on local URL:  http://127.0.0.1:7860\n",
      "Running on public URL: https://72018e24caa1d7562b.gradio.live\n",
      "\n",
      "This share link expires in 72 hours. For free permanent hosting and GPU upgrades (NEW!), check out Spaces: https://huggingface.co/spaces\n"
     ]
    },
    {
     "data": {
      "text/html": [
       "<div><iframe src=\"https://72018e24caa1d7562b.gradio.live\" width=\"100%\" height=\"500\" allow=\"autoplay; camera; microphone; clipboard-read; clipboard-write;\" frameborder=\"0\" allowfullscreen></iframe></div>"
      ],
      "text/plain": [
       "<IPython.core.display.HTML object>"
      ]
     },
     "metadata": {},
     "output_type": "display_data"
    },
    {
     "data": {
      "text/plain": []
     },
     "execution_count": 23,
     "metadata": {},
     "output_type": "execute_result"
    }
   ],
   "source": [
    "interface.launch(debug = False,share=True)"
   ]
  },
  {
   "cell_type": "code",
   "execution_count": null,
   "metadata": {},
   "outputs": [],
   "source": []
  }
 ],
 "metadata": {
  "kernelspec": {
   "display_name": "base",
   "language": "python",
   "name": "python3"
  },
  "language_info": {
   "codemirror_mode": {
    "name": "ipython",
    "version": 3
   },
   "file_extension": ".py",
   "mimetype": "text/x-python",
   "name": "python",
   "nbconvert_exporter": "python",
   "pygments_lexer": "ipython3",
   "version": "3.9.13"
  },
  "orig_nbformat": 4
 },
 "nbformat": 4,
 "nbformat_minor": 2
}
